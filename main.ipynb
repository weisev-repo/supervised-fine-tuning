{
 "cells": [
  {
   "cell_type": "code",
   "execution_count": null,
   "id": "3eb92182",
   "metadata": {},
   "outputs": [
    {
     "name": "stdout",
     "output_type": "stream",
     "text": [
      "Installing/updating: ['torch==2.3.0', 'numpy==1.26.4', 'transformers==4.52.4', 'huggingface-hub==0.33.0', 'datasets==3.6.0', 'trl==0.14.0', 'jinja2==3.1.2', 'tabulate==0.9.0', 'pandas==2.3.0']\n"
     ]
    }
   ],
   "source": [
    "import sys\n",
    "import subprocess\n",
    "import pkg_resources\n",
    "\n",
    "def ensure_requirements(req_file=\"requirements.txt\"):\n",
    "    \"\"\"\n",
    "    Check packages from requirements.txt, install missing or version-mismatched ones.\n",
    "    Supports version constraints like ==, >=, <.\n",
    "    \"\"\"\n",
    "    # Read requirements.txt and skip empty lines/comments\n",
    "    with open(req_file) as f:\n",
    "        required = [\n",
    "            line.split(\"#\")[0].strip()  # strip inline comments\n",
    "            for line in f\n",
    "            if line.strip() and not line.strip().startswith(\"#\")\n",
    "        ]\n",
    "\n",
    "    # Packages to install or upgrade\n",
    "    missing_or_outdated = []\n",
    "\n",
    "    for req in required:\n",
    "        try:\n",
    "            pkg_resources.require(req)\n",
    "        except (pkg_resources.DistributionNotFound, pkg_resources.VersionConflict):\n",
    "            missing_or_outdated.append(req)\n",
    "\n",
    "    if missing_or_outdated:\n",
    "        print(f\"Installing/updating: {missing_or_outdated}\")\n",
    "        # Run pip install in the current Python environment\n",
    "        subprocess.check_call([sys.executable, \"-m\", \"pip\", \"install\", *missing_or_outdated])\n",
    "    else:\n",
    "        print(\"✅ All required packages are already installed and compatible.\")\n",
    "\n",
    "# Run it\n",
    "ensure_requirements()"
   ]
  },
  {
   "cell_type": "code",
   "execution_count": 1,
   "id": "e7b8f35a",
   "metadata": {},
   "outputs": [],
   "source": [
    "# Warning control\n",
    "import warnings\n",
    "warnings.filterwarnings('ignore')"
   ]
  },
  {
   "cell_type": "code",
   "execution_count": 2,
   "id": "7c617064",
   "metadata": {},
   "outputs": [
    {
     "ename": "ImportError",
     "evalue": "cannot import name 'SFTConfig' from 'trl' (c:\\Users\\seviw\\anaconda3\\lib\\site-packages\\trl\\__init__.py)",
     "output_type": "error",
     "traceback": [
      "\u001b[1;31m---------------------------------------------------------------------------\u001b[0m",
      "\u001b[1;31mImportError\u001b[0m                               Traceback (most recent call last)",
      "\u001b[1;32m~\\AppData\\Local\\Temp\\ipykernel_8160\\2452562405.py\u001b[0m in \u001b[0;36m<module>\u001b[1;34m\u001b[0m\n\u001b[0;32m      3\u001b[0m \u001b[1;32mfrom\u001b[0m \u001b[0mdatasets\u001b[0m \u001b[1;32mimport\u001b[0m \u001b[0mload_dataset\u001b[0m\u001b[1;33m,\u001b[0m \u001b[0mDataset\u001b[0m\u001b[1;33m\u001b[0m\u001b[1;33m\u001b[0m\u001b[0m\n\u001b[0;32m      4\u001b[0m \u001b[1;32mfrom\u001b[0m \u001b[0mtransformers\u001b[0m \u001b[1;32mimport\u001b[0m \u001b[0mTrainingArguments\u001b[0m\u001b[1;33m,\u001b[0m \u001b[0mAutoTokenizer\u001b[0m\u001b[1;33m,\u001b[0m \u001b[0mAutoModelForCausalLM\u001b[0m\u001b[1;33m\u001b[0m\u001b[1;33m\u001b[0m\u001b[0m\n\u001b[1;32m----> 5\u001b[1;33m \u001b[1;32mfrom\u001b[0m \u001b[0mtrl\u001b[0m \u001b[1;32mimport\u001b[0m \u001b[0mSFTTrainer\u001b[0m\u001b[1;33m,\u001b[0m \u001b[0mDataCollatorForCompletionOnlyLM\u001b[0m\u001b[1;33m,\u001b[0m \u001b[0mSFTConfig\u001b[0m\u001b[1;33m\u001b[0m\u001b[1;33m\u001b[0m\u001b[0m\n\u001b[0m",
      "\u001b[1;31mImportError\u001b[0m: cannot import name 'SFTConfig' from 'trl' (c:\\Users\\seviw\\anaconda3\\lib\\site-packages\\trl\\__init__.py)"
     ]
    }
   ],
   "source": [
    "import torch\n",
    "import pandas as pd\n",
    "from datasets import load_dataset, Dataset\n",
    "from transformers import TrainingArguments, AutoTokenizer, AutoModelForCausalLM\n",
    "from trl import SFTTrainer, DataCollatorForCompletionOnlyLM, SFTConfig\n"
   ]
  }
 ],
 "metadata": {
  "kernelspec": {
   "display_name": "base",
   "language": "python",
   "name": "python3"
  },
  "language_info": {
   "codemirror_mode": {
    "name": "ipython",
    "version": 3
   },
   "file_extension": ".py",
   "mimetype": "text/x-python",
   "name": "python",
   "nbconvert_exporter": "python",
   "pygments_lexer": "ipython3",
   "version": "3.9.13"
  }
 },
 "nbformat": 4,
 "nbformat_minor": 5
}
