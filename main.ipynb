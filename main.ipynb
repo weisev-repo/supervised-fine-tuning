{
 "cells": [
  {
   "cell_type": "code",
   "execution_count": null,
   "id": "3eb92182",
   "metadata": {},
   "outputs": [],
   "source": [
    "# Ensure installation of the required packages\n",
    "import sys\n",
    "import subprocess\n",
    "import pkg_resources\n",
    "\n",
    "def ensure_requirements(req_file=\"requirements.txt\"):\n",
    "    \"\"\"\n",
    "    Check if packages from requirements.txt are installed,\n",
    "    install only missing or outdated ones.\n",
    "    \"\"\"\n",
    "    # Read requirements.txt\n",
    "    with open(req_file) as f:\n",
    "        required = [line.strip() for line in f if line.strip() and not line.startswith(\"#\")]\n",
    "\n",
    "    # Get currently installed packages\n",
    "    installed_packages = {pkg.key: pkg.version for pkg in pkg_resources.working_set}\n",
    "\n",
    "    # Find packages that need installing/upgrading\n",
    "    missing_or_outdated = []\n",
    "    for req in required:\n",
    "        try:\n",
    "            pkg_resources.require(req)\n",
    "        except pkg_resources.DistributionNotFound:\n",
    "            missing_or_outdated.append(req)  # Not installed\n",
    "        except pkg_resources.VersionConflict:\n",
    "            missing_or_outdated.append(req)  # Wrong version\n",
    "\n",
    "    # Install only if needed\n",
    "    if missing_or_outdated:\n",
    "        print(f\"Installing/Updating: {missing_or_outdated}\")\n",
    "        subprocess.check_call([sys.executable, \"-m\", \"pip\", \"install\", *missing_or_outdated])\n",
    "    else:\n",
    "        print(\"✅ All required packages are already installed.\")\n",
    "\n",
    "# Run it\n",
    "ensure_requirements()"
   ]
  },
  {
   "cell_type": "code",
   "execution_count": 1,
   "id": "e7b8f35a",
   "metadata": {},
   "outputs": [],
   "source": [
    "# Warning control\n",
    "import warnings\n",
    "warnings.filterwarnings('ignore')"
   ]
  },
  {
   "cell_type": "code",
   "execution_count": 2,
   "id": "7c617064",
   "metadata": {},
   "outputs": [
    {
     "ename": "ModuleNotFoundError",
     "evalue": "No module named 'datasets'",
     "output_type": "error",
     "traceback": [
      "\u001b[1;31m---------------------------------------------------------------------------\u001b[0m",
      "\u001b[1;31mModuleNotFoundError\u001b[0m                       Traceback (most recent call last)",
      "\u001b[1;32m~\\AppData\\Local\\Temp\\ipykernel_9820\\939970714.py\u001b[0m in \u001b[0;36m<module>\u001b[1;34m\u001b[0m\n\u001b[0;32m      1\u001b[0m \u001b[1;32mimport\u001b[0m \u001b[0mtorch\u001b[0m\u001b[1;33m\u001b[0m\u001b[1;33m\u001b[0m\u001b[0m\n\u001b[0;32m      2\u001b[0m \u001b[1;32mimport\u001b[0m \u001b[0mpandas\u001b[0m \u001b[1;32mas\u001b[0m \u001b[0mpd\u001b[0m\u001b[1;33m\u001b[0m\u001b[1;33m\u001b[0m\u001b[0m\n\u001b[1;32m----> 3\u001b[1;33m \u001b[1;32mfrom\u001b[0m \u001b[0mdatasets\u001b[0m \u001b[1;32mimport\u001b[0m \u001b[0mload_dataset\u001b[0m\u001b[1;33m,\u001b[0m \u001b[0mDataset\u001b[0m\u001b[1;33m\u001b[0m\u001b[1;33m\u001b[0m\u001b[0m\n\u001b[0m\u001b[0;32m      4\u001b[0m \u001b[1;32mfrom\u001b[0m \u001b[0mtransformers\u001b[0m \u001b[1;32mimport\u001b[0m \u001b[0mTrainingArguments\u001b[0m\u001b[1;33m,\u001b[0m \u001b[0mAutoTokenizer\u001b[0m\u001b[1;33m,\u001b[0m \u001b[0mAutoModelForCausalLM\u001b[0m\u001b[1;33m\u001b[0m\u001b[1;33m\u001b[0m\u001b[0m\n\u001b[0;32m      5\u001b[0m \u001b[1;32mfrom\u001b[0m \u001b[0mtrl\u001b[0m \u001b[1;32mimport\u001b[0m \u001b[0mSFTTrainer\u001b[0m\u001b[1;33m,\u001b[0m \u001b[0mDataCollatorForCompletionOnlyLM\u001b[0m\u001b[1;33m,\u001b[0m \u001b[0mSFTConfig\u001b[0m\u001b[1;33m\u001b[0m\u001b[1;33m\u001b[0m\u001b[0m\n",
      "\u001b[1;31mModuleNotFoundError\u001b[0m: No module named 'datasets'"
     ]
    }
   ],
   "source": [
    "import torch\n",
    "import pandas as pd\n",
    "from datasets import load_dataset, Dataset\n",
    "from transformers import TrainingArguments, AutoTokenizer, AutoModelForCausalLM\n",
    "from trl import SFTTrainer, DataCollatorForCompletionOnlyLM, SFTConfig"
   ]
  }
 ],
 "metadata": {
  "kernelspec": {
   "display_name": "base",
   "language": "python",
   "name": "python3"
  },
  "language_info": {
   "codemirror_mode": {
    "name": "ipython",
    "version": 3
   },
   "file_extension": ".py",
   "mimetype": "text/x-python",
   "name": "python",
   "nbconvert_exporter": "python",
   "pygments_lexer": "ipython3",
   "version": "3.9.13"
  }
 },
 "nbformat": 4,
 "nbformat_minor": 5
}
